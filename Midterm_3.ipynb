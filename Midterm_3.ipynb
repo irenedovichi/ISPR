{
 "cells": [
  {
   "cell_type": "markdown",
   "metadata": {},
   "source": [
    "# **Irene Dovichi** \n",
    "## Midterm 3 - Assignment 3\n",
    "Train a neural network for sequences of your choice (LSTM, GRU, Convolutional, Clockwork RNN, ...) to predict the Benzene (C6H6 column) based on the sensor measurements timeseries (PT08.* columns) being fed in input to the recurrent model. Evaluate the predictive accuracy of the network on the task (using appropriately training/validation splits).  Confront the perfomance of this model, with another recurrent neural network trained to predict benzene one-step-ahead, i.e. given the current benzene measuement, predict its next value.\n",
    "Show and compare performance of both settings."
   ]
  },
  {
   "cell_type": "code",
   "execution_count": 1,
   "metadata": {},
   "outputs": [],
   "source": [
    "import numpy as np\n",
    "import pandas as pd\n",
    "import matplotlib.pyplot as plt"
   ]
  },
  {
   "cell_type": "markdown",
   "metadata": {},
   "source": [
    "## Dataset Loading"
   ]
  },
  {
   "cell_type": "code",
   "execution_count": 2,
   "metadata": {},
   "outputs": [],
   "source": [
    "df = pd.read_csv('air+quality/AirQualityUCI.csv', sep=';', decimal=',', na_values=-200)"
   ]
  },
  {
   "cell_type": "code",
   "execution_count": 3,
   "metadata": {},
   "outputs": [
    {
     "data": {
      "text/html": [
       "<div>\n",
       "<style scoped>\n",
       "    .dataframe tbody tr th:only-of-type {\n",
       "        vertical-align: middle;\n",
       "    }\n",
       "\n",
       "    .dataframe tbody tr th {\n",
       "        vertical-align: top;\n",
       "    }\n",
       "\n",
       "    .dataframe thead th {\n",
       "        text-align: right;\n",
       "    }\n",
       "</style>\n",
       "<table border=\"1\" class=\"dataframe\">\n",
       "  <thead>\n",
       "    <tr style=\"text-align: right;\">\n",
       "      <th></th>\n",
       "      <th>Date</th>\n",
       "      <th>Time</th>\n",
       "      <th>C6H6(GT)</th>\n",
       "      <th>PT08.S1(CO)</th>\n",
       "      <th>PT08.S2(NMHC)</th>\n",
       "      <th>PT08.S3(NOx)</th>\n",
       "      <th>PT08.S4(NO2)</th>\n",
       "      <th>PT08.S5(O3)</th>\n",
       "    </tr>\n",
       "  </thead>\n",
       "  <tbody>\n",
       "    <tr>\n",
       "      <th>0</th>\n",
       "      <td>10/03/2004</td>\n",
       "      <td>18.00.00</td>\n",
       "      <td>11.9</td>\n",
       "      <td>1360.0</td>\n",
       "      <td>1046.0</td>\n",
       "      <td>1056.0</td>\n",
       "      <td>1692.0</td>\n",
       "      <td>1268.0</td>\n",
       "    </tr>\n",
       "    <tr>\n",
       "      <th>1</th>\n",
       "      <td>10/03/2004</td>\n",
       "      <td>19.00.00</td>\n",
       "      <td>9.4</td>\n",
       "      <td>1292.0</td>\n",
       "      <td>955.0</td>\n",
       "      <td>1174.0</td>\n",
       "      <td>1559.0</td>\n",
       "      <td>972.0</td>\n",
       "    </tr>\n",
       "    <tr>\n",
       "      <th>2</th>\n",
       "      <td>10/03/2004</td>\n",
       "      <td>20.00.00</td>\n",
       "      <td>9.0</td>\n",
       "      <td>1402.0</td>\n",
       "      <td>939.0</td>\n",
       "      <td>1140.0</td>\n",
       "      <td>1555.0</td>\n",
       "      <td>1074.0</td>\n",
       "    </tr>\n",
       "    <tr>\n",
       "      <th>3</th>\n",
       "      <td>10/03/2004</td>\n",
       "      <td>21.00.00</td>\n",
       "      <td>9.2</td>\n",
       "      <td>1376.0</td>\n",
       "      <td>948.0</td>\n",
       "      <td>1092.0</td>\n",
       "      <td>1584.0</td>\n",
       "      <td>1203.0</td>\n",
       "    </tr>\n",
       "    <tr>\n",
       "      <th>4</th>\n",
       "      <td>10/03/2004</td>\n",
       "      <td>22.00.00</td>\n",
       "      <td>6.5</td>\n",
       "      <td>1272.0</td>\n",
       "      <td>836.0</td>\n",
       "      <td>1205.0</td>\n",
       "      <td>1490.0</td>\n",
       "      <td>1110.0</td>\n",
       "    </tr>\n",
       "  </tbody>\n",
       "</table>\n",
       "</div>"
      ],
      "text/plain": [
       "         Date      Time  C6H6(GT)  PT08.S1(CO)  PT08.S2(NMHC)  PT08.S3(NOx)  \\\n",
       "0  10/03/2004  18.00.00      11.9       1360.0         1046.0        1056.0   \n",
       "1  10/03/2004  19.00.00       9.4       1292.0          955.0        1174.0   \n",
       "2  10/03/2004  20.00.00       9.0       1402.0          939.0        1140.0   \n",
       "3  10/03/2004  21.00.00       9.2       1376.0          948.0        1092.0   \n",
       "4  10/03/2004  22.00.00       6.5       1272.0          836.0        1205.0   \n",
       "\n",
       "   PT08.S4(NO2)  PT08.S5(O3)  \n",
       "0        1692.0       1268.0  \n",
       "1        1559.0        972.0  \n",
       "2        1555.0       1074.0  \n",
       "3        1584.0       1203.0  \n",
       "4        1490.0       1110.0  "
      ]
     },
     "execution_count": 3,
     "metadata": {},
     "output_type": "execute_result"
    }
   ],
   "source": [
    "# Keep only Date, Time, C6H6, and PT08.* columns\n",
    "df = df[['Date', 'Time', 'C6H6(GT)', 'PT08.S1(CO)', 'PT08.S2(NMHC)', 'PT08.S3(NOx)', 'PT08.S4(NO2)', 'PT08.S5(O3)']]\n",
    "df.head()"
   ]
  },
  {
   "cell_type": "code",
   "execution_count": 4,
   "metadata": {},
   "outputs": [
    {
     "data": {
      "text/plain": [
       "Date             114\n",
       "Time             114\n",
       "C6H6(GT)         480\n",
       "PT08.S1(CO)      480\n",
       "PT08.S2(NMHC)    480\n",
       "PT08.S3(NOx)     480\n",
       "PT08.S4(NO2)     480\n",
       "PT08.S5(O3)      480\n",
       "dtype: int64"
      ]
     },
     "execution_count": 4,
     "metadata": {},
     "output_type": "execute_result"
    }
   ],
   "source": [
    "df.isna().sum()"
   ]
  },
  {
   "cell_type": "code",
   "execution_count": 5,
   "metadata": {},
   "outputs": [
    {
     "data": {
      "text/plain": [
       "Date             0\n",
       "Time             0\n",
       "C6H6(GT)         0\n",
       "PT08.S1(CO)      0\n",
       "PT08.S2(NMHC)    0\n",
       "PT08.S3(NOx)     0\n",
       "PT08.S4(NO2)     0\n",
       "PT08.S5(O3)      0\n",
       "dtype: int64"
      ]
     },
     "execution_count": 5,
     "metadata": {},
     "output_type": "execute_result"
    }
   ],
   "source": [
    "# Drop rows with nan values and reset index\n",
    "df = df.dropna()\n",
    "df = df.reset_index(drop=True)\n",
    "df.isna().sum()"
   ]
  },
  {
   "cell_type": "code",
   "execution_count": 6,
   "metadata": {},
   "outputs": [
    {
     "data": {
      "text/plain": [
       "(8991, 8)"
      ]
     },
     "execution_count": 6,
     "metadata": {},
     "output_type": "execute_result"
    }
   ],
   "source": [
    "df.shape"
   ]
  },
  {
   "cell_type": "code",
   "execution_count": 7,
   "metadata": {},
   "outputs": [
    {
     "data": {
      "text/plain": [
       "(Timestamp('2004-03-10 18:00:00'), Timestamp('2005-04-04 14:00:00'))"
      ]
     },
     "execution_count": 7,
     "metadata": {},
     "output_type": "execute_result"
    }
   ],
   "source": [
    "# Combine Date and Time columns into a single DateTime column\n",
    "df['DateTime'] = pd.to_datetime(df['Date'] + ' ' + df['Time'], format='%d/%m/%Y %H.%M.%S')\n",
    "df = df.drop(columns=['Date', 'Time'])\n",
    "df.insert(0, 'DateTime', df.pop('DateTime'))\n",
    "\n",
    "# We notice that df is ordered by DateTime since the min is the first row and the max is the last row\n",
    "df['DateTime'].min(), df['DateTime'].max()"
   ]
  },
  {
   "cell_type": "markdown",
   "metadata": {},
   "source": [
    "## Model Selection\n",
    "I will start with LSTM, then GRU and (maybe) Clockwork RNN"
   ]
  },
  {
   "cell_type": "code",
   "execution_count": 8,
   "metadata": {},
   "outputs": [],
   "source": [
    "#TODO: decidere che tecniche usare (dropout, minibatch,truncated backpropagation, ecc) e che architetture provare\n",
    "#TODO: confrontare LSTM, GRU e Clockwork RNN (provare almeno 1 modello per ogni tipo)"
   ]
  },
  {
   "cell_type": "markdown",
   "metadata": {},
   "source": [
    "### Train/Test Split"
   ]
  },
  {
   "cell_type": "code",
   "execution_count": 23,
   "metadata": {},
   "outputs": [],
   "source": [
    "# TODO: forse dovrei prendere come train fino a fine 2004 e come test da inizio 2005 in poi? E validation?"
   ]
  },
  {
   "cell_type": "code",
   "execution_count": 24,
   "metadata": {},
   "outputs": [
    {
     "data": {
      "text/html": [
       "<div>\n",
       "<style scoped>\n",
       "    .dataframe tbody tr th:only-of-type {\n",
       "        vertical-align: middle;\n",
       "    }\n",
       "\n",
       "    .dataframe tbody tr th {\n",
       "        vertical-align: top;\n",
       "    }\n",
       "\n",
       "    .dataframe thead th {\n",
       "        text-align: right;\n",
       "    }\n",
       "</style>\n",
       "<table border=\"1\" class=\"dataframe\">\n",
       "  <thead>\n",
       "    <tr style=\"text-align: right;\">\n",
       "      <th></th>\n",
       "      <th>DateTime</th>\n",
       "      <th>C6H6(GT)</th>\n",
       "      <th>PT08.S1(CO)</th>\n",
       "      <th>PT08.S2(NMHC)</th>\n",
       "      <th>PT08.S3(NOx)</th>\n",
       "      <th>PT08.S4(NO2)</th>\n",
       "      <th>PT08.S5(O3)</th>\n",
       "    </tr>\n",
       "  </thead>\n",
       "  <tbody>\n",
       "    <tr>\n",
       "      <th>6882</th>\n",
       "      <td>2005-01-01 00:00:00</td>\n",
       "      <td>4.2</td>\n",
       "      <td>1046.0</td>\n",
       "      <td>724.0</td>\n",
       "      <td>848.0</td>\n",
       "      <td>898.0</td>\n",
       "      <td>1201.0</td>\n",
       "    </tr>\n",
       "    <tr>\n",
       "      <th>6883</th>\n",
       "      <td>2005-01-01 01:00:00</td>\n",
       "      <td>8.8</td>\n",
       "      <td>1275.0</td>\n",
       "      <td>930.0</td>\n",
       "      <td>649.0</td>\n",
       "      <td>1024.0</td>\n",
       "      <td>1617.0</td>\n",
       "    </tr>\n",
       "    <tr>\n",
       "      <th>6884</th>\n",
       "      <td>2005-01-01 02:00:00</td>\n",
       "      <td>7.5</td>\n",
       "      <td>1173.0</td>\n",
       "      <td>878.0</td>\n",
       "      <td>738.0</td>\n",
       "      <td>1002.0</td>\n",
       "      <td>1355.0</td>\n",
       "    </tr>\n",
       "    <tr>\n",
       "      <th>6885</th>\n",
       "      <td>2005-01-01 03:00:00</td>\n",
       "      <td>7.6</td>\n",
       "      <td>1163.0</td>\n",
       "      <td>881.0</td>\n",
       "      <td>748.0</td>\n",
       "      <td>1001.0</td>\n",
       "      <td>1296.0</td>\n",
       "    </tr>\n",
       "    <tr>\n",
       "      <th>6886</th>\n",
       "      <td>2005-01-01 04:00:00</td>\n",
       "      <td>5.6</td>\n",
       "      <td>1054.0</td>\n",
       "      <td>791.0</td>\n",
       "      <td>830.0</td>\n",
       "      <td>967.0</td>\n",
       "      <td>1131.0</td>\n",
       "    </tr>\n",
       "  </tbody>\n",
       "</table>\n",
       "</div>"
      ],
      "text/plain": [
       "                DateTime  C6H6(GT)  PT08.S1(CO)  PT08.S2(NMHC)  PT08.S3(NOx)  \\\n",
       "6882 2005-01-01 00:00:00       4.2       1046.0          724.0         848.0   \n",
       "6883 2005-01-01 01:00:00       8.8       1275.0          930.0         649.0   \n",
       "6884 2005-01-01 02:00:00       7.5       1173.0          878.0         738.0   \n",
       "6885 2005-01-01 03:00:00       7.6       1163.0          881.0         748.0   \n",
       "6886 2005-01-01 04:00:00       5.6       1054.0          791.0         830.0   \n",
       "\n",
       "      PT08.S4(NO2)  PT08.S5(O3)  \n",
       "6882         898.0       1201.0  \n",
       "6883        1024.0       1617.0  \n",
       "6884        1002.0       1355.0  \n",
       "6885        1001.0       1296.0  \n",
       "6886         967.0       1131.0  "
      ]
     },
     "execution_count": 24,
     "metadata": {},
     "output_type": "execute_result"
    }
   ],
   "source": [
    "# see what is the first instance of 2005\n",
    "df[df['DateTime'].dt.year == 2005].head()"
   ]
  },
  {
   "cell_type": "code",
   "execution_count": 27,
   "metadata": {},
   "outputs": [
    {
     "name": "stdout",
     "output_type": "stream",
     "text": [
      "76%\n"
     ]
    }
   ],
   "source": [
    "# 6882 : len(df) = x : 100\n",
    "x = 6882 * 100 // len(df)\n",
    "print(f'{x}%')"
   ]
  },
  {
   "cell_type": "code",
   "execution_count": 29,
   "metadata": {},
   "outputs": [],
   "source": [
    "# TODO: potrei prendere come train fino a fine 2004, cioe fino all'istanza 6881 (train: 76% of df) e poi dividere il restante df tra val e test"
   ]
  },
  {
   "cell_type": "code",
   "execution_count": 30,
   "metadata": {},
   "outputs": [
    {
     "data": {
      "text/plain": [
       "2109"
      ]
     },
     "execution_count": 30,
     "metadata": {},
     "output_type": "execute_result"
    }
   ],
   "source": [
    "len(df) - 6882"
   ]
  },
  {
   "cell_type": "code",
   "execution_count": 31,
   "metadata": {},
   "outputs": [],
   "source": [
    "#------------------------------------------------------------"
   ]
  },
  {
   "cell_type": "code",
   "execution_count": 9,
   "metadata": {},
   "outputs": [
    {
     "data": {
      "text/plain": [
       "7192"
      ]
     },
     "execution_count": 9,
     "metadata": {},
     "output_type": "execute_result"
    }
   ],
   "source": [
    "# calculate 80% of length of df\n",
    "train_size = int(len(df) * 0.8)\n",
    "train_size"
   ]
  },
  {
   "cell_type": "code",
   "execution_count": 10,
   "metadata": {},
   "outputs": [
    {
     "data": {
      "text/html": [
       "<div>\n",
       "<style scoped>\n",
       "    .dataframe tbody tr th:only-of-type {\n",
       "        vertical-align: middle;\n",
       "    }\n",
       "\n",
       "    .dataframe tbody tr th {\n",
       "        vertical-align: top;\n",
       "    }\n",
       "\n",
       "    .dataframe thead th {\n",
       "        text-align: right;\n",
       "    }\n",
       "</style>\n",
       "<table border=\"1\" class=\"dataframe\">\n",
       "  <thead>\n",
       "    <tr style=\"text-align: right;\">\n",
       "      <th></th>\n",
       "      <th>DateTime</th>\n",
       "      <th>C6H6(GT)</th>\n",
       "      <th>PT08.S1(CO)</th>\n",
       "      <th>PT08.S2(NMHC)</th>\n",
       "      <th>PT08.S3(NOx)</th>\n",
       "      <th>PT08.S4(NO2)</th>\n",
       "      <th>PT08.S5(O3)</th>\n",
       "    </tr>\n",
       "  </thead>\n",
       "  <tbody>\n",
       "    <tr>\n",
       "      <th>7189</th>\n",
       "      <td>2005-01-15 23:00:00</td>\n",
       "      <td>11.1</td>\n",
       "      <td>1231.0</td>\n",
       "      <td>1017.0</td>\n",
       "      <td>655.0</td>\n",
       "      <td>1207.0</td>\n",
       "      <td>1414.0</td>\n",
       "    </tr>\n",
       "    <tr>\n",
       "      <th>7190</th>\n",
       "      <td>2005-01-16 00:00:00</td>\n",
       "      <td>13.6</td>\n",
       "      <td>1289.0</td>\n",
       "      <td>1104.0</td>\n",
       "      <td>623.0</td>\n",
       "      <td>1257.0</td>\n",
       "      <td>1499.0</td>\n",
       "    </tr>\n",
       "    <tr>\n",
       "      <th>7191</th>\n",
       "      <td>2005-01-16 01:00:00</td>\n",
       "      <td>9.8</td>\n",
       "      <td>1166.0</td>\n",
       "      <td>970.0</td>\n",
       "      <td>705.0</td>\n",
       "      <td>1136.0</td>\n",
       "      <td>1306.0</td>\n",
       "    </tr>\n",
       "    <tr>\n",
       "      <th>7192</th>\n",
       "      <td>2005-01-16 02:00:00</td>\n",
       "      <td>7.6</td>\n",
       "      <td>1062.0</td>\n",
       "      <td>884.0</td>\n",
       "      <td>748.0</td>\n",
       "      <td>1062.0</td>\n",
       "      <td>1172.0</td>\n",
       "    </tr>\n",
       "    <tr>\n",
       "      <th>7193</th>\n",
       "      <td>2005-01-16 03:00:00</td>\n",
       "      <td>6.0</td>\n",
       "      <td>1028.0</td>\n",
       "      <td>813.0</td>\n",
       "      <td>794.0</td>\n",
       "      <td>1019.0</td>\n",
       "      <td>1076.0</td>\n",
       "    </tr>\n",
       "    <tr>\n",
       "      <th>7194</th>\n",
       "      <td>2005-01-16 04:00:00</td>\n",
       "      <td>5.9</td>\n",
       "      <td>1003.0</td>\n",
       "      <td>807.0</td>\n",
       "      <td>819.0</td>\n",
       "      <td>1021.0</td>\n",
       "      <td>1005.0</td>\n",
       "    </tr>\n",
       "  </tbody>\n",
       "</table>\n",
       "</div>"
      ],
      "text/plain": [
       "                DateTime  C6H6(GT)  PT08.S1(CO)  PT08.S2(NMHC)  PT08.S3(NOx)  \\\n",
       "7189 2005-01-15 23:00:00      11.1       1231.0         1017.0         655.0   \n",
       "7190 2005-01-16 00:00:00      13.6       1289.0         1104.0         623.0   \n",
       "7191 2005-01-16 01:00:00       9.8       1166.0          970.0         705.0   \n",
       "7192 2005-01-16 02:00:00       7.6       1062.0          884.0         748.0   \n",
       "7193 2005-01-16 03:00:00       6.0       1028.0          813.0         794.0   \n",
       "7194 2005-01-16 04:00:00       5.9       1003.0          807.0         819.0   \n",
       "\n",
       "      PT08.S4(NO2)  PT08.S5(O3)  \n",
       "7189        1207.0       1414.0  \n",
       "7190        1257.0       1499.0  \n",
       "7191        1136.0       1306.0  \n",
       "7192        1062.0       1172.0  \n",
       "7193        1019.0       1076.0  \n",
       "7194        1021.0       1005.0  "
      ]
     },
     "execution_count": 10,
     "metadata": {},
     "output_type": "execute_result"
    }
   ],
   "source": [
    "# see instances 7190 to 7195\n",
    "df.iloc[7189:7195]"
   ]
  },
  {
   "cell_type": "markdown",
   "metadata": {},
   "source": [
    "We can notice that choosing instance 7189 as the last for the train will give approximately the 80% of the data as train data, and we avoid to stop in the middle of measurements for a specific day"
   ]
  },
  {
   "cell_type": "code",
   "execution_count": 11,
   "metadata": {},
   "outputs": [],
   "source": [
    "train_start_date = df['DateTime'].iloc[0]\n",
    "train_end_date = df['DateTime'].iloc[7189]\n",
    "\n",
    "test_start_date = df['DateTime'].iloc[7190]\n",
    "test_end_date = df['DateTime'].iloc[-1]\n",
    "\n",
    "train = df[(df['DateTime'] >= train_start_date) & (df['DateTime'] <= train_end_date)]\n",
    "test = df[(df['DateTime'] >= test_start_date) & (df['DateTime'] <= test_end_date)]"
   ]
  },
  {
   "cell_type": "code",
   "execution_count": 12,
   "metadata": {},
   "outputs": [
    {
     "data": {
      "text/plain": [
       "5752"
      ]
     },
     "execution_count": 12,
     "metadata": {},
     "output_type": "execute_result"
    }
   ],
   "source": [
    "# calculate 80% of length of train\n",
    "train_size = int(len(train) * 0.8)\n",
    "train_size"
   ]
  },
  {
   "cell_type": "code",
   "execution_count": 13,
   "metadata": {},
   "outputs": [
    {
     "data": {
      "text/html": [
       "<div>\n",
       "<style scoped>\n",
       "    .dataframe tbody tr th:only-of-type {\n",
       "        vertical-align: middle;\n",
       "    }\n",
       "\n",
       "    .dataframe tbody tr th {\n",
       "        vertical-align: top;\n",
       "    }\n",
       "\n",
       "    .dataframe thead th {\n",
       "        text-align: right;\n",
       "    }\n",
       "</style>\n",
       "<table border=\"1\" class=\"dataframe\">\n",
       "  <thead>\n",
       "    <tr style=\"text-align: right;\">\n",
       "      <th></th>\n",
       "      <th>DateTime</th>\n",
       "      <th>C6H6(GT)</th>\n",
       "      <th>PT08.S1(CO)</th>\n",
       "      <th>PT08.S2(NMHC)</th>\n",
       "      <th>PT08.S3(NOx)</th>\n",
       "      <th>PT08.S4(NO2)</th>\n",
       "      <th>PT08.S5(O3)</th>\n",
       "    </tr>\n",
       "  </thead>\n",
       "  <tbody>\n",
       "    <tr>\n",
       "      <th>5752</th>\n",
       "      <td>2004-11-11 14:00:00</td>\n",
       "      <td>18.0</td>\n",
       "      <td>1252.0</td>\n",
       "      <td>1240.0</td>\n",
       "      <td>564.0</td>\n",
       "      <td>1614.0</td>\n",
       "      <td>1277.0</td>\n",
       "    </tr>\n",
       "    <tr>\n",
       "      <th>5753</th>\n",
       "      <td>2004-11-11 15:00:00</td>\n",
       "      <td>14.3</td>\n",
       "      <td>1186.0</td>\n",
       "      <td>1125.0</td>\n",
       "      <td>617.0</td>\n",
       "      <td>1493.0</td>\n",
       "      <td>1171.0</td>\n",
       "    </tr>\n",
       "    <tr>\n",
       "      <th>5754</th>\n",
       "      <td>2004-11-11 16:00:00</td>\n",
       "      <td>13.7</td>\n",
       "      <td>1172.0</td>\n",
       "      <td>1107.0</td>\n",
       "      <td>629.0</td>\n",
       "      <td>1449.0</td>\n",
       "      <td>1106.0</td>\n",
       "    </tr>\n",
       "    <tr>\n",
       "      <th>5755</th>\n",
       "      <td>2004-11-11 17:00:00</td>\n",
       "      <td>11.2</td>\n",
       "      <td>1109.0</td>\n",
       "      <td>1021.0</td>\n",
       "      <td>689.0</td>\n",
       "      <td>1361.0</td>\n",
       "      <td>1036.0</td>\n",
       "    </tr>\n",
       "    <tr>\n",
       "      <th>5756</th>\n",
       "      <td>2004-11-11 18:00:00</td>\n",
       "      <td>16.5</td>\n",
       "      <td>1201.0</td>\n",
       "      <td>1196.0</td>\n",
       "      <td>597.0</td>\n",
       "      <td>1546.0</td>\n",
       "      <td>1196.0</td>\n",
       "    </tr>\n",
       "    <tr>\n",
       "      <th>5757</th>\n",
       "      <td>2004-11-11 19:00:00</td>\n",
       "      <td>16.1</td>\n",
       "      <td>1189.0</td>\n",
       "      <td>1183.0</td>\n",
       "      <td>603.0</td>\n",
       "      <td>1534.0</td>\n",
       "      <td>1170.0</td>\n",
       "    </tr>\n",
       "    <tr>\n",
       "      <th>5758</th>\n",
       "      <td>2004-11-11 20:00:00</td>\n",
       "      <td>20.6</td>\n",
       "      <td>1282.0</td>\n",
       "      <td>1312.0</td>\n",
       "      <td>551.0</td>\n",
       "      <td>1671.0</td>\n",
       "      <td>1312.0</td>\n",
       "    </tr>\n",
       "    <tr>\n",
       "      <th>5759</th>\n",
       "      <td>2004-11-11 21:00:00</td>\n",
       "      <td>16.8</td>\n",
       "      <td>1207.0</td>\n",
       "      <td>1203.0</td>\n",
       "      <td>625.0</td>\n",
       "      <td>1570.0</td>\n",
       "      <td>1251.0</td>\n",
       "    </tr>\n",
       "    <tr>\n",
       "      <th>5760</th>\n",
       "      <td>2004-11-11 22:00:00</td>\n",
       "      <td>4.8</td>\n",
       "      <td>904.0</td>\n",
       "      <td>754.0</td>\n",
       "      <td>930.0</td>\n",
       "      <td>1172.0</td>\n",
       "      <td>805.0</td>\n",
       "    </tr>\n",
       "    <tr>\n",
       "      <th>5761</th>\n",
       "      <td>2004-11-11 23:00:00</td>\n",
       "      <td>4.0</td>\n",
       "      <td>900.0</td>\n",
       "      <td>711.0</td>\n",
       "      <td>975.0</td>\n",
       "      <td>1153.0</td>\n",
       "      <td>736.0</td>\n",
       "    </tr>\n",
       "    <tr>\n",
       "      <th>5762</th>\n",
       "      <td>2004-11-12 00:00:00</td>\n",
       "      <td>4.5</td>\n",
       "      <td>932.0</td>\n",
       "      <td>740.0</td>\n",
       "      <td>926.0</td>\n",
       "      <td>1180.0</td>\n",
       "      <td>774.0</td>\n",
       "    </tr>\n",
       "    <tr>\n",
       "      <th>5763</th>\n",
       "      <td>2004-11-12 01:00:00</td>\n",
       "      <td>5.4</td>\n",
       "      <td>968.0</td>\n",
       "      <td>785.0</td>\n",
       "      <td>872.0</td>\n",
       "      <td>1209.0</td>\n",
       "      <td>826.0</td>\n",
       "    </tr>\n",
       "    <tr>\n",
       "      <th>5764</th>\n",
       "      <td>2004-11-12 02:00:00</td>\n",
       "      <td>2.4</td>\n",
       "      <td>827.0</td>\n",
       "      <td>610.0</td>\n",
       "      <td>1092.0</td>\n",
       "      <td>1120.0</td>\n",
       "      <td>636.0</td>\n",
       "    </tr>\n",
       "  </tbody>\n",
       "</table>\n",
       "</div>"
      ],
      "text/plain": [
       "                DateTime  C6H6(GT)  PT08.S1(CO)  PT08.S2(NMHC)  PT08.S3(NOx)  \\\n",
       "5752 2004-11-11 14:00:00      18.0       1252.0         1240.0         564.0   \n",
       "5753 2004-11-11 15:00:00      14.3       1186.0         1125.0         617.0   \n",
       "5754 2004-11-11 16:00:00      13.7       1172.0         1107.0         629.0   \n",
       "5755 2004-11-11 17:00:00      11.2       1109.0         1021.0         689.0   \n",
       "5756 2004-11-11 18:00:00      16.5       1201.0         1196.0         597.0   \n",
       "5757 2004-11-11 19:00:00      16.1       1189.0         1183.0         603.0   \n",
       "5758 2004-11-11 20:00:00      20.6       1282.0         1312.0         551.0   \n",
       "5759 2004-11-11 21:00:00      16.8       1207.0         1203.0         625.0   \n",
       "5760 2004-11-11 22:00:00       4.8        904.0          754.0         930.0   \n",
       "5761 2004-11-11 23:00:00       4.0        900.0          711.0         975.0   \n",
       "5762 2004-11-12 00:00:00       4.5        932.0          740.0         926.0   \n",
       "5763 2004-11-12 01:00:00       5.4        968.0          785.0         872.0   \n",
       "5764 2004-11-12 02:00:00       2.4        827.0          610.0        1092.0   \n",
       "\n",
       "      PT08.S4(NO2)  PT08.S5(O3)  \n",
       "5752        1614.0       1277.0  \n",
       "5753        1493.0       1171.0  \n",
       "5754        1449.0       1106.0  \n",
       "5755        1361.0       1036.0  \n",
       "5756        1546.0       1196.0  \n",
       "5757        1534.0       1170.0  \n",
       "5758        1671.0       1312.0  \n",
       "5759        1570.0       1251.0  \n",
       "5760        1172.0        805.0  \n",
       "5761        1153.0        736.0  \n",
       "5762        1180.0        774.0  \n",
       "5763        1209.0        826.0  \n",
       "5764        1120.0        636.0  "
      ]
     },
     "execution_count": 13,
     "metadata": {},
     "output_type": "execute_result"
    }
   ],
   "source": [
    "train.iloc[5752:5765]"
   ]
  },
  {
   "cell_type": "code",
   "execution_count": 14,
   "metadata": {},
   "outputs": [],
   "source": [
    "train_start_date = train['DateTime'].iloc[0]\n",
    "train_end_date = train['DateTime'].iloc[5761]\n",
    "\n",
    "val_start_date = train['DateTime'].iloc[5762]\n",
    "val_end_date = train['DateTime'].iloc[-1]\n",
    "\n",
    "train = df[(df['DateTime'] >= train_start_date) & (df['DateTime'] <= train_end_date)]\n",
    "val = df[(df['DateTime'] >= val_start_date) & (df['DateTime'] <= val_end_date)]"
   ]
  },
  {
   "cell_type": "code",
   "execution_count": 18,
   "metadata": {},
   "outputs": [
    {
     "name": "stdout",
     "output_type": "stream",
     "text": [
      "Wanted instances for train set: 5754 --> Actual instances: 5762\n",
      "Wanted instances for val set: 1438 --> Actual instances: 1428\n",
      "Wanted instances for test set: 1798 --> Actual instances: 1801\n"
     ]
    }
   ],
   "source": [
    "# just a check that we have the correct number of instances\n",
    "print(f'Wanted instances for train set: {int(len(df) * 0.8 * 0.8)} --> Actual instances: {len(train)}\\n'\n",
    "      f'Wanted instances for val set: {int(len(df) * 0.8 * 0.2)} --> Actual instances: {len(val)}\\n'\n",
    "      f'Wanted instances for test set: {int(len(df) * 0.2)} --> Actual instances: {len(test)}')"
   ]
  },
  {
   "cell_type": "code",
   "execution_count": 20,
   "metadata": {},
   "outputs": [],
   "source": [
    "X_train = train[['PT08.S1(CO)', 'PT08.S2(NMHC)', 'PT08.S3(NOx)', 'PT08.S4(NO2)', 'PT08.S5(O3)']]\n",
    "y_train = train['C6H6(GT)']\n",
    "\n",
    "X_val = val[['PT08.S1(CO)', 'PT08.S2(NMHC)', 'PT08.S3(NOx)', 'PT08.S4(NO2)', 'PT08.S5(O3)']]\n",
    "y_val = val['C6H6(GT)']\n",
    "\n",
    "X_test = test[['PT08.S1(CO)', 'PT08.S2(NMHC)', 'PT08.S3(NOx)', 'PT08.S4(NO2)', 'PT08.S5(O3)']]\n",
    "y_test = test['C6H6(GT)']"
   ]
  },
  {
   "cell_type": "markdown",
   "metadata": {},
   "source": [
    "### Scaling\n",
    "Concerning the scaling, I decided to use MinMaxScaler() in order to keep the features in a range of [0,1] but keeping their distributions.\n",
    "\n",
    "Should I scale each sequence (= 1 day of measurements) or the whole sets?????"
   ]
  },
  {
   "cell_type": "code",
   "execution_count": 39,
   "metadata": {},
   "outputs": [
    {
     "data": {
      "text/html": [
       "<div>\n",
       "<style scoped>\n",
       "    .dataframe tbody tr th:only-of-type {\n",
       "        vertical-align: middle;\n",
       "    }\n",
       "\n",
       "    .dataframe tbody tr th {\n",
       "        vertical-align: top;\n",
       "    }\n",
       "\n",
       "    .dataframe thead th {\n",
       "        text-align: right;\n",
       "    }\n",
       "</style>\n",
       "<table border=\"1\" class=\"dataframe\">\n",
       "  <thead>\n",
       "    <tr style=\"text-align: right;\">\n",
       "      <th></th>\n",
       "      <th>DateTime</th>\n",
       "      <th>C6H6(GT)</th>\n",
       "      <th>PT08.S1(CO)</th>\n",
       "      <th>PT08.S2(NMHC)</th>\n",
       "      <th>PT08.S3(NOx)</th>\n",
       "      <th>PT08.S4(NO2)</th>\n",
       "      <th>PT08.S5(O3)</th>\n",
       "    </tr>\n",
       "  </thead>\n",
       "  <tbody>\n",
       "    <tr>\n",
       "      <th>0</th>\n",
       "      <td>2004-03-10 18:00:00</td>\n",
       "      <td>11.9</td>\n",
       "      <td>1360.0</td>\n",
       "      <td>1046.0</td>\n",
       "      <td>1056.0</td>\n",
       "      <td>1692.0</td>\n",
       "      <td>1268.0</td>\n",
       "    </tr>\n",
       "    <tr>\n",
       "      <th>1</th>\n",
       "      <td>2004-03-10 19:00:00</td>\n",
       "      <td>9.4</td>\n",
       "      <td>1292.0</td>\n",
       "      <td>955.0</td>\n",
       "      <td>1174.0</td>\n",
       "      <td>1559.0</td>\n",
       "      <td>972.0</td>\n",
       "    </tr>\n",
       "    <tr>\n",
       "      <th>2</th>\n",
       "      <td>2004-03-10 20:00:00</td>\n",
       "      <td>9.0</td>\n",
       "      <td>1402.0</td>\n",
       "      <td>939.0</td>\n",
       "      <td>1140.0</td>\n",
       "      <td>1555.0</td>\n",
       "      <td>1074.0</td>\n",
       "    </tr>\n",
       "    <tr>\n",
       "      <th>3</th>\n",
       "      <td>2004-03-10 21:00:00</td>\n",
       "      <td>9.2</td>\n",
       "      <td>1376.0</td>\n",
       "      <td>948.0</td>\n",
       "      <td>1092.0</td>\n",
       "      <td>1584.0</td>\n",
       "      <td>1203.0</td>\n",
       "    </tr>\n",
       "    <tr>\n",
       "      <th>4</th>\n",
       "      <td>2004-03-10 22:00:00</td>\n",
       "      <td>6.5</td>\n",
       "      <td>1272.0</td>\n",
       "      <td>836.0</td>\n",
       "      <td>1205.0</td>\n",
       "      <td>1490.0</td>\n",
       "      <td>1110.0</td>\n",
       "    </tr>\n",
       "    <tr>\n",
       "      <th>5</th>\n",
       "      <td>2004-03-10 23:00:00</td>\n",
       "      <td>4.7</td>\n",
       "      <td>1197.0</td>\n",
       "      <td>750.0</td>\n",
       "      <td>1337.0</td>\n",
       "      <td>1393.0</td>\n",
       "      <td>949.0</td>\n",
       "    </tr>\n",
       "    <tr>\n",
       "      <th>6</th>\n",
       "      <td>2004-03-11 00:00:00</td>\n",
       "      <td>3.6</td>\n",
       "      <td>1185.0</td>\n",
       "      <td>690.0</td>\n",
       "      <td>1462.0</td>\n",
       "      <td>1333.0</td>\n",
       "      <td>733.0</td>\n",
       "    </tr>\n",
       "  </tbody>\n",
       "</table>\n",
       "</div>"
      ],
      "text/plain": [
       "             DateTime  C6H6(GT)  PT08.S1(CO)  PT08.S2(NMHC)  PT08.S3(NOx)  \\\n",
       "0 2004-03-10 18:00:00      11.9       1360.0         1046.0        1056.0   \n",
       "1 2004-03-10 19:00:00       9.4       1292.0          955.0        1174.0   \n",
       "2 2004-03-10 20:00:00       9.0       1402.0          939.0        1140.0   \n",
       "3 2004-03-10 21:00:00       9.2       1376.0          948.0        1092.0   \n",
       "4 2004-03-10 22:00:00       6.5       1272.0          836.0        1205.0   \n",
       "5 2004-03-10 23:00:00       4.7       1197.0          750.0        1337.0   \n",
       "6 2004-03-11 00:00:00       3.6       1185.0          690.0        1462.0   \n",
       "\n",
       "   PT08.S4(NO2)  PT08.S5(O3)  \n",
       "0        1692.0       1268.0  \n",
       "1        1559.0        972.0  \n",
       "2        1555.0       1074.0  \n",
       "3        1584.0       1203.0  \n",
       "4        1490.0       1110.0  \n",
       "5        1393.0        949.0  \n",
       "6        1333.0        733.0  "
      ]
     },
     "execution_count": 39,
     "metadata": {},
     "output_type": "execute_result"
    }
   ],
   "source": [
    "train.head(7)"
   ]
  },
  {
   "cell_type": "code",
   "execution_count": 53,
   "metadata": {},
   "outputs": [
    {
     "data": {
      "image/png": "[encoded data removed]",
      "text/plain": [
       "<Figure size 1000x700 with 5 Axes>"
      ]
     },
     "metadata": {},
     "output_type": "display_data"
    }
   ],
   "source": [
    "# first day of train set are the first 6 instances, then we have 24 instances per day\n",
    "# discard the first day and consider the 8 days of train set and plot the colummns of X_train for these days\n",
    "X_train[6 : 6 + 24*8].plot(subplots=True, figsize=(10, 7))\n",
    "# write on x axis when a new day starts on each plot\n",
    "for i in range(1, 9):\n",
    "    plt.axvline(x = 6 + 24 * i - 1, color='r', linestyle='--')\n",
    "plt.show()"
   ]
  },
  {
   "cell_type": "code",
   "execution_count": 54,
   "metadata": {},
   "outputs": [],
   "source": [
    "# TODO: fare scaling considerando giorno per giorno, cioe fare scaling solo sulle 24 istanze di un giorno e non su tutto il train set"
   ]
  },
  {
   "cell_type": "code",
   "execution_count": null,
   "metadata": {},
   "outputs": [],
   "source": []
  },
  {
   "cell_type": "code",
   "execution_count": null,
   "metadata": {},
   "outputs": [],
   "source": []
  },
  {
   "cell_type": "markdown",
   "metadata": {},
   "source": [
    "### Training Phase"
   ]
  },
  {
   "cell_type": "markdown",
   "metadata": {},
   "source": [
    "### Evaluation"
   ]
  },
  {
   "cell_type": "markdown",
   "metadata": {},
   "source": [
    "## One-step ahead Model"
   ]
  }
 ],
 "metadata": {
  "kernelspec": {
   "display_name": ".venv",
   "language": "python",
   "name": "python3"
  },
  "language_info": {
   "codemirror_mode": {
    "name": "ipython",
    "version": 3
   },
   "file_extension": ".py",
   "mimetype": "text/x-python",
   "name": "python",
   "nbconvert_exporter": "python",
   "pygments_lexer": "ipython3",
   "version": "3.11.7"
  }
 },
 "nbformat": 4,
 "nbformat_minor": 2
}
