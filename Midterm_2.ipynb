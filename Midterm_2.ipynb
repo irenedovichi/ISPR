{
 "cells": [
  {
   "cell_type": "markdown",
   "metadata": {},
   "source": [
    "# **Irene Dovichi** \n",
    "## Midterm 2 - Assignment 3\n",
    "Implement from scratch an RBM and apply it to DSET3. The RBM should be implemented fully by you (both CD-1 training and inference steps) but you are free to use library functions for the rest (e.g. image loading and management, etc.).\n",
    "\n",
    "1. Train an RBM with a number of hidden neurons selected by you (single layer) on the MNIST data (use the training set split provided by the website).\n",
    "\n",
    "2. Use the trained RBM to encode a selection of test images (e.g. using one per digit type) using the corresponding activation of the hidden neurons.\n",
    "\n",
    "3. Train a simple classifier (e.g. any simple classifier in scikit) to recognize the MNIST digits using as inputs their encoding obtained at step 2. Use the standard training/test split. Show a performance metric of your choice in the presentation/handout."
   ]
  },
  {
   "cell_type": "code",
   "execution_count": 1,
   "metadata": {},
   "outputs": [],
   "source": [
    "import numpy as np\n",
    "import matplotlib.pyplot as plt\n",
    "import os\n",
    "import seaborn as sns\n",
    "import idx2numpy\n",
    "from tqdm import tqdm"
   ]
  },
  {
   "cell_type": "markdown",
   "metadata": {},
   "source": [
    "## Dataset Loading"
   ]
  },
  {
   "cell_type": "code",
   "execution_count": 2,
   "metadata": {},
   "outputs": [],
   "source": [
    "dataset_folder = 'mnist_db/'\n",
    "\n",
    "# Load train and test images\n",
    "train_images = idx2numpy.convert_from_file(os.path.join(dataset_folder, 'train-images-idx3-ubyte'))\n",
    "test_images = idx2numpy.convert_from_file(os.path.join(dataset_folder, 't10k-images-idx3-ubyte'))\n",
    "\n",
    "# Load train and test labels\n",
    "train_labels = idx2numpy.convert_from_file(os.path.join(dataset_folder, 'train-labels-idx1-ubyte'))\n",
    "test_labels = idx2numpy.convert_from_file(os.path.join(dataset_folder, 't10k-labels-idx1-ubyte'))"
   ]
  },
  {
   "cell_type": "code",
   "execution_count": 3,
   "metadata": {},
   "outputs": [
    {
     "name": "stdout",
     "output_type": "stream",
     "text": [
      "Image shape: (28, 28)\n",
      "Pixel value range: 0 - 255\n",
      "Label: 5\n"
     ]
    },
    {
     "data": {
      "image/png": "[encoded data removed]",
      "text/plain": [
       "<Figure size 640x480 with 1 Axes>"
      ]
     },
     "metadata": {},
     "output_type": "display_data"
    }
   ],
   "source": [
    "# Print the first image in the train set\n",
    "first_image = train_images[0]\n",
    "first_label = train_labels[0]\n",
    "\n",
    "# Print the shape of the image\n",
    "print(\"Image shape:\", first_image.shape)\n",
    "\n",
    "# Print the ranges of pixel values\n",
    "print(\"Pixel value range:\", first_image.min(), \"-\", first_image.max())\n",
    "\n",
    "# Print the label of the image\n",
    "print(\"Label:\", first_label)\n",
    "\n",
    "plt.imshow(first_image.reshape(28, 28), cmap='gray')\n",
    "plt.axis('off')\n",
    "plt.show()\n"
   ]
  },
  {
   "cell_type": "markdown",
   "metadata": {},
   "source": [
    "### Data Preprocessing"
   ]
  },
  {
   "cell_type": "code",
   "execution_count": 4,
   "metadata": {},
   "outputs": [],
   "source": [
    "# Normalize pixel values\n",
    "train_images = train_images.astype('float32') / 255\n",
    "test_images = test_images.astype('float32') / 255\n",
    "\n",
    "# Binarize the images\n",
    "threshold = 0.5\n",
    "train_images_b = np.where(train_images > threshold, 1, 0)\n",
    "test_images_b = np.where(test_images > threshold, 1, 0)\n",
    "\n",
    "# Reshape to 1D array\n",
    "train_images_b = train_images_b.reshape(-1, 28*28)\n",
    "test_images_b = test_images_b.reshape(-1, 28*28)"
   ]
  },
  {
   "cell_type": "code",
   "execution_count": 5,
   "metadata": {},
   "outputs": [
    {
     "name": "stdout",
     "output_type": "stream",
     "text": [
      "Image shape: (784,)\n",
      "Pixel value range: 0 - 1\n"
     ]
    },
    {
     "data": {
      "image/png": "[encoded data removed]",
      "text/plain": [
       "<Figure size 640x480 with 1 Axes>"
      ]
     },
     "metadata": {},
     "output_type": "display_data"
    }
   ],
   "source": [
    "# See the change in the first image of the train set\n",
    "first_image = train_images_b[0]\n",
    "\n",
    "# Print the shape of the image\n",
    "print(\"Image shape:\", first_image.shape)\n",
    "\n",
    "# Print the ranges of pixel values\n",
    "print(\"Pixel value range:\", first_image.min(), \"-\", first_image.max())\n",
    "\n",
    "plt.imshow(first_image.reshape(28, 28), cmap='gray')\n",
    "plt.axis('off')\n",
    "plt.show()"
   ]
  },
  {
   "cell_type": "markdown",
   "metadata": {},
   "source": [
    "## RBM Implementation "
   ]
  },
  {
   "cell_type": "code",
   "execution_count": 11,
   "metadata": {},
   "outputs": [],
   "source": [
    "class RBM:\n",
    "    def __init__(self, visible_units, hidden_units, train_images):\n",
    "        self.v = visible_units\n",
    "        self.h = hidden_units\n",
    "        self.train_images = train_images\n",
    "        # Initialize weights to small random values taken from 0 mean gaussian with standard deviation 0.01\n",
    "        self.W = np.random.randn(self.h, self.v) * 0.01\n",
    "        # Initialize biases of visible units to log(p_i/(1-p_i)) where p_i is the proportion of training data where unit i is on\n",
    "        self.bv = np.log((np.mean(self.train_images, axis=0) + 1e-5) / (1 - np.mean(self.train_images, axis=0) + 1e-5))\n",
    "        # Initialize biases of hidden units to zero\n",
    "        self.bh = np.zeros(self.h)\n",
    "        self.epoch_errors = np.array([])\n",
    "        self.errors = np.array([])\n",
    "\n",
    "    def sigmoid(self, x):\n",
    "        return 1 / (1 + np.exp(-x))\n",
    "\n",
    "    def train(self, dataset, learning_rate, epochs, batch_size): \n",
    "        num_batches = len(dataset) // batch_size\n",
    "        remainder = len(dataset) % batch_size\n",
    "\n",
    "        for epoch in tqdm(range(epochs)):\n",
    "            self.epoch_errors = []\n",
    "            for i in range(num_batches):\n",
    "                batch = dataset[i * batch_size : (i + 1) * batch_size]\n",
    "\n",
    "                ## Compute wake part\n",
    "                hidden_prob = self.sigmoid(np.dot(batch, self.W.T) + self.bh)\n",
    "                wake = np.dot(hidden_prob.T, batch)\n",
    "\n",
    "                ## Compute dream part\n",
    "                # When the hidden units are being driven by the data, always use stochastic binary states\n",
    "                hidden_states = np.random.rand(batch_size, self.h) < hidden_prob\n",
    "                recon_prob = self.sigmoid(np.dot(hidden_states, self.W) + self.bv)\n",
    "                # When they are being driven by reconstructions, always use probabilities without sampling\n",
    "                recon_states = recon_prob\n",
    "                hidden_prob_rec = self.sigmoid(np.dot(recon_states, self.W.T) + self.bh)\n",
    "                dream = np.dot(hidden_prob_rec.T, recon_states)\n",
    "\n",
    "                ## CD-1 update\n",
    "                self.W += learning_rate * (wake - dream) / batch_size\n",
    "                self.bv += learning_rate * (batch.sum(axis=0) - recon_states.sum(axis=0)) / batch_size\n",
    "                self.bh += learning_rate * (hidden_prob.sum(axis=0) - hidden_prob_rec.sum(axis=0)) / batch_size\n",
    "\n",
    "                ## Reconstruction error: MSE\n",
    "                epoch_error = np.mean((batch - recon_states) ** 2)\n",
    "                self.epoch_errors.append(epoch_error)\n",
    "\n",
    "            if remainder > 0:\n",
    "                batch = dataset[num_batches * batch_size :]\n",
    "\n",
    "                ## Compute wake part\n",
    "                hidden_prob = self.sigmoid(np.dot(batch, self.W.T) + self.bh)\n",
    "                wake = np.dot(hidden_prob.T, batch)\n",
    "\n",
    "                ## Compute dream part\n",
    "                hidden_states = np.random.rand(remainder, self.h) < hidden_prob\n",
    "                recon_prob = self.sigmoid(np.dot(hidden_states, self.W) + self.bv)\n",
    "                recon_states = recon_prob\n",
    "                hidden_prob_rec = self.sigmoid(np.dot(recon_states, self.W.T) + self.bh)\n",
    "                dream = np.dot(hidden_prob_rec.T, recon_states)\n",
    "\n",
    "                ## CD-1 update\n",
    "                self.W += learning_rate * (wake - dream) / remainder\n",
    "                self.bv += learning_rate * (batch.sum(axis=0) - recon_states.sum(axis=0)) / remainder\n",
    "                self.bh += learning_rate * (hidden_prob.sum(axis=0) - hidden_prob_rec.sum(axis=0)) / remainder\n",
    "\n",
    "                ## Reconstruction error: MSE\n",
    "                remainder_error = np.mean((batch - recon_states) ** 2)\n",
    "                self.epoch_errors.append(remainder_error)\n",
    "            \n",
    "            self.errors = np.append(self.errors, np.mean(self.epoch_errors))\n",
    "\n",
    "    def reconstruct(self, data):\n",
    "        hidden_prob = self.sigmoid(np.dot(data, self.W.T) + self.bh)\n",
    "        recon_prob = self.sigmoid(np.dot(hidden_prob, self.W) + self.bv)\n",
    "        return recon_prob"
   ]
  },
  {
   "cell_type": "markdown",
   "metadata": {},
   "source": [
    "## RBM Training Phase"
   ]
  },
  {
   "cell_type": "code",
   "execution_count": null,
   "metadata": {},
   "outputs": [],
   "source": [
    "#TODO: provare senza binarizzazione (usare train_images e test_images al posto di train/test_images_b --> fare il reshape a 1D vector)\n",
    "#TODO: plottare i weights"
   ]
  },
  {
   "cell_type": "markdown",
   "metadata": {},
   "source": [
    "Let's do a first try with RBM class to see if it is working\n",
    "\n",
    "the number of `visible_units` is 784 since it is the length of the flattened MNIST images"
   ]
  },
  {
   "cell_type": "code",
   "execution_count": 36,
   "metadata": {},
   "outputs": [
    {
     "name": "stderr",
     "output_type": "stream",
     "text": [
      "100%|██████████| 50/50 [04:46<00:00,  5.72s/it]\n"
     ]
    }
   ],
   "source": [
    "rbm = RBM(visible_units=784, hidden_units=450, train_images=train_images_b)\n",
    "rbm.train(dataset=train_images_b, learning_rate=0.1, epochs=50, batch_size=50)"
   ]
  },
  {
   "cell_type": "code",
   "execution_count": 37,
   "metadata": {},
   "outputs": [
    {
     "data": {
      "image/png": "[encoded data removed]",
      "text/plain": [
       "<Figure size 640x480 with 1 Axes>"
      ]
     },
     "metadata": {},
     "output_type": "display_data"
    }
   ],
   "source": [
    "# plot the errors\n",
    "plt.plot(rbm.errors)\n",
    "plt.xlabel('Epochs')\n",
    "plt.ylabel('Reconstruction error')\n",
    "plt.title('Model loss: MSE')\n",
    "plt.show()"
   ]
  },
  {
   "cell_type": "code",
   "execution_count": 38,
   "metadata": {},
   "outputs": [
    {
     "name": "stdout",
     "output_type": "stream",
     "text": [
      "Final error: 0.005665219825964821\n"
     ]
    }
   ],
   "source": [
    "print('Final error:', rbm.errors[-1])"
   ]
  },
  {
   "cell_type": "markdown",
   "metadata": {},
   "source": [
    "## Encoding Phase"
   ]
  },
  {
   "cell_type": "code",
   "execution_count": null,
   "metadata": {},
   "outputs": [],
   "source": []
  },
  {
   "cell_type": "code",
   "execution_count": null,
   "metadata": {},
   "outputs": [],
   "source": []
  },
  {
   "cell_type": "code",
   "execution_count": null,
   "metadata": {},
   "outputs": [],
   "source": []
  },
  {
   "cell_type": "code",
   "execution_count": null,
   "metadata": {},
   "outputs": [],
   "source": []
  },
  {
   "cell_type": "code",
   "execution_count": null,
   "metadata": {},
   "outputs": [],
   "source": []
  },
  {
   "cell_type": "markdown",
   "metadata": {
    "vscode": {
     "languageId": "plaintext"
    }
   },
   "source": [
    "## Classification Phase"
   ]
  },
  {
   "cell_type": "markdown",
   "metadata": {},
   "source": [
    "## Personal Considerations"
   ]
  }
 ],
 "metadata": {
  "kernelspec": {
   "display_name": ".venv",
   "language": "python",
   "name": "python3"
  },
  "language_info": {
   "codemirror_mode": {
    "name": "ipython",
    "version": 3
   },
   "file_extension": ".py",
   "mimetype": "text/x-python",
   "name": "python",
   "nbconvert_exporter": "python",
   "pygments_lexer": "ipython3",
   "version": "3.11.7"
  }
 },
 "nbformat": 4,
 "nbformat_minor": 2
}
